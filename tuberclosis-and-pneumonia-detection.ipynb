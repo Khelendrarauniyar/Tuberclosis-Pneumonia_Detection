import os
import pandas as pd
import matplotlib.pyplot as plt
import seaborn as sns
import cv2
import numpy as np
from tensorflow.keras.utils import to_categorical
from sklearn.model_selection import train_test_split
import tensorflow as tf
from tensorflow.keras.models import Sequential
from tensorflow.keras.layers import Conv2D, MaxPooling2D, Flatten, Dense
from tensorflow.keras.optimizers import Adam
from sklearn.metrics import confusion_matrix
from sklearn.metrics import classification_report
from tensorflow.keras.utils import to_categorical
from tensorflow.keras.utils import plot_model
from tensorflow import keras

train_folder="/kaggle/input/chest-xray-pneumonia/chest_xray/train"
test_folder="/kaggle/input/chest-xray-pneumonia/chest_xray/test"
validate_folder="/kaggle/input/chest-xray-pneumonia/chest_xray/val"

normal_folder_test="/kaggle/input/chest-xray-pneumonia/chest_xray/test/NORMAL/"
pneumonia_folder_test="/kaggle/input/chest-xray-pneumonia/chest_xray/test/PNEUMONIA/"
normal_folder_train="/kaggle/input/chest-xray-pneumonia/chest_xray/train/NORMAL/"
pneumonia_folder_train="/kaggle/input/chest-xray-pneumonia/chest_xray/train/PNEUMONIA/"
normal_folder_validate="/kaggle/input/chest-xray-pneumonia/chest_xray/val/NORMAL/"
pneumonia_folder_validate="/kaggle/input/chest-xray-pneumonia/chest_xray/val/PNEUMONIA/"

name_files_normal_train=os.listdir(normal_folder_train)
name_files_pneumonia_train=os.listdir(pneumonia_folder_train)
name_files_normal_test=os.listdir(normal_folder_test)
name_files_pneumonia_test=os.listdir(pneumonia_folder_test)
name_files_normal_validate=os.listdir(normal_folder_validate)
name_files_pneumonia_validate=os.listdir(pneumonia_folder_validate)

name_files_normal_validate

df_train_normal=pd.DataFrame(name_files_normal_train,columns=["images"])
df_train_normal["labels"]=0
df_train_normal["images"]=normal_folder_train+df_train_normal["images"]
#ADDING THE COMPLETE PATH OF IMAGES

df_train_pneumonia=pd.DataFrame(name_files_pneumonia_train,columns=["images"])
df_train_pneumonia["labels"]=1
df_train_pneumonia["images"]=pneumonia_folder_train+df_train_pneumonia["images"]

df_test_normal=pd.DataFrame(name_files_normal_test,columns=["images"])
df_test_normal["labels"]=0
df_test_normal["images"]=normal_folder_test+df_test_normal["images"]

df_test_pneumonia=pd.DataFrame(name_files_pneumonia_test,columns=["images"])
df_test_pneumonia["labels"]=1
df_test_pneumonia["images"]=pneumonia_folder_test+df_test_pneumonia["images"]

df_validate_normal=pd.DataFrame(name_files_normal_validate,columns=["images"])
df_validate_normal["labels"]=0
df_validate_normal["images"]=normal_folder_validate+df_validate_normal["images"]

df_validate_pneumonia=pd.DataFrame(name_files_pneumonia_validate,columns=["images"])
df_validate_pneumonia["labels"]=1
df_validate_pneumonia["images"]=pneumonia_folder_validate+df_validate_pneumonia["images"]

DF1=pd.concat([df_train_pneumonia,df_train_normal,df_test_pneumonia,df_test_normal,df_validate_pneumonia,df_validate_normal], ignore_index=True)
DF1.sample(frac=1, random_state=42).reset_index(drop=True)

DF1["mat_images"]=DF1['images'].apply(lambda x: cv2.resize(cv2.imread(x,0) ,( 224, 224)))

DF1.labels.unique()
DF1.mat_images[0][0]

#Displaying images of Pneumonia
DF1.sample(frac=1).reset_index(drop=True)
images_pneumonia= DF1[DF1.labels==1]
for i in range(3):
    image_data = images_pneumonia['mat_images'][i]
    plt.figure()
    plt.imshow(image_data)
    plt.title(f"Image {i + 1}")
    plt.axis('off') 

#Displaying normal images
images_normal= DF1[DF1.labels==0].mat_images
images_normal=images_normal.reset_index(drop=True)

for i in range(3):
    image_data = images_normal[i]
    plt.figure()
    plt.imshow(image_data)
    plt.title(f"Image {i + 1}")
    plt.axis('off')
DATA2_TRAIN_NORMAL="/kaggle/input/tuberculosis-tb-chest-xray-dataset/TB_Chest_Radiography_Database/Normal/"
DATA2_TRAIN_Tuberculosis="/kaggle/input/tuberculosis-tb-chest-xray-dataset/TB_Chest_Radiography_Database/Tuberculosis/"

Normal_img=os.listdir(DATA2_TRAIN_NORMAL)
Tuberculosis_img=os.listdir(DATA2_TRAIN_Tuberculosis)
dnorm=pd.DataFrame(Normal_img,columns=["images"])
dnorm["labels"]=0
dnorm["images"]=DATA2_TRAIN_NORMAL+dnorm["images"]

dtuber=pd.DataFrame(Tuberculosis_img,columns=["images"])
dtuber["labels"]=2
dtuber["images"]=DATA2_TRAIN_Tuberculosis+dtuber["images"]

## Concating normal and tuberculosis dataframes
DF2=pd.concat([dnorm,dtuber],ignore_index=True)
# Adding img arrays to the dataset
DF2["mat_images"]=DF2['images'].apply(lambda x: cv2.resize(cv2.imread(x,0) ,( 224, 224)))
DF2.sample(frac=1, random_state=42).reset_index(drop=True)

#Displaying TB images
DF2.sample(frac=1).reset_index(drop=True)
images_tb= DF2[DF2.labels==2].mat_images
images_tb=images_tb.reset_index(drop=True)
for i in range(3):
    image_data = images_tb[i]
    plt.figure()
    plt.imshow(image_data)
    plt.title(f"Image {i + 1}")
    plt.axis('off')  # Remove axis labels

#Final dataframe
df=pd.concat([DF1,DF2],ignore_index=True)
df.sample(frac=1, random_state=42).reset_index(drop=True)
df

sns.countplot(y='labels',data=df)

X=df["mat_images"]
y=df["labels"]

X=X/255
X.shape
Y=to_categorical(y,3)
Y
X_train, X_test, y_train, y_test = train_test_split(X,Y, test_size=0.20, random_state=42)
print(X_train.shape)
print(y_train.shape)
print(X_test.shape)
print(y_test.shape)


X_train = np.array([np.array(x, dtype=np.float32) for x in X_train], dtype=object) # creating an np array X_train that contains all images in type np array
X_train = tf.convert_to_tensor(X_train, dtype=tf.float32)

X_test = np.array([np.array(x, dtype=np.float32) for x in X_test], dtype=object)
X_test = tf.convert_to_tensor(X_test, dtype=tf.float32)

print(X_train.shape)
print(y_train.shape)
print(X_test.shape)
print(y_test.shape)

## CNN Model
layers = [
    Conv2D(64, (3, 3), activation='relu', input_shape=(224, 224, 1)), 
    MaxPooling2D((2, 2)),
    Conv2D(128, (3, 3), activation='relu'),
    MaxPooling2D((2, 2)),
    Conv2D(256, (3, 3), activation='relu'),
    MaxPooling2D((2, 2)),
    Conv2D(512, (3, 3), activation='relu'),
    MaxPooling2D((2, 2)),
    Flatten(),
    Dense(1024, activation='relu'),
    Dense(512, activation='relu'),
    Dense(3, activation='softmax')
]

# Create a Sequential model and pass the layers list
model_1 = Sequential(layers)

# Compile the model
model_1.compile(optimizer=Adam(learning_rate=0.001), loss='categorical_crossentropy', metrics=['accuracy'])

model_1.fit(X_train,y_train,epochs=25,validation_data=(X_test,y_test),batch_size=64,verbose= True) 

## Save the model diagram to a file (e.g., 'model_diagram.png')
plot_model(model_1, to_file='model_diagram.png', show_shapes=True)
plot_model(model_1, show_shapes=True)

model_1.summary()

plt.plot(model_1.history.history['accuracy'])
plt.xlabel('Epoch')
plt.ylabel('Accuracy')
plt.title('Accuracy of the model')
plt.show()

y_pred = model_1.predict(X_test)
y_true = np.argmax(y_test, axis=1)
y_pred = np.argmax(y_pred, axis=1)

y_pred = model_1.predict(X_test)
y_pred = np.argmax(y_pred, axis=1)
y_pred

np.unique(y_true)
pd.Series(y_true).value_counts()

# Calculate the confusion matrix
confusion = confusion_matrix(y_true,y_pred)
# Define class labels
# Create a heatmap
plt.figure(figsize=(4, 3))
sns.set(font_scale=1.2)
sns.heatmap(confusion, annot=True , fmt="d", cmap="Blues", xticklabels=['Normal', 'Pnemounia', 'Tuberclosis'], yticklabels=['Normal', 'Pnemounia', 'Tuberclosis'])
plt.xlabel('Predicted')
plt.ylabel('True')
plt.title('Confusion Matrix')
plt.show()

from sklearn.metrics import f1_score
f1 = f1_score(y_true, y_pred, average='weighted')
f1

y_pred=model_1.predict(PNEUMONIA)
y_pred = np.argmax(y_pred, axis=1)
y_pred


